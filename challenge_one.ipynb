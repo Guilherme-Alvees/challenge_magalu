{
 "cells": [
  {
   "cell_type": "code",
   "execution_count": 2,
   "metadata": {},
   "outputs": [
    {
     "name": "stdout",
     "output_type": "stream",
     "text": [
      "0           Sapato Estampa\n",
      "1                 Camiseta\n",
      "2            Sapato Xadrez\n",
      "3                  Relógio\n",
      "4             Chinelo Liso\n",
      "                ...       \n",
      "100994      Short Listrado\n",
      "100995             Mochila\n",
      "100996    Pulseira Estampa\n",
      "100997     Camisa Listrado\n",
      "100998         Short Linho\n",
      "Name: Produto, Length: 100999, dtype: object\n"
     ]
    }
   ],
   "source": [
    "import pandas as pd\n",
    "\n",
    "df = pd.read_excel('vendas.xlsx')\n",
    "teste = df['Produto']\n",
    "print(teste)\n"
   ]
  }
 ],
 "metadata": {
  "kernelspec": {
   "display_name": ".venv",
   "language": "python",
   "name": "python3"
  },
  "language_info": {
   "codemirror_mode": {
    "name": "ipython",
    "version": 3
   },
   "file_extension": ".py",
   "mimetype": "text/x-python",
   "name": "python",
   "nbconvert_exporter": "python",
   "pygments_lexer": "ipython3",
   "version": "3.12.3"
  }
 },
 "nbformat": 4,
 "nbformat_minor": 2
}
